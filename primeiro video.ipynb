{
 "cells": [
  {
   "cell_type": "code",
   "execution_count": 1,
   "id": "0adf171e",
   "metadata": {},
   "outputs": [],
   "source": [
    "n = 2+3"
   ]
  },
  {
   "cell_type": "code",
   "execution_count": 2,
   "id": "e1fb6720",
   "metadata": {},
   "outputs": [
    {
     "data": {
      "text/plain": [
       "5"
      ]
     },
     "execution_count": 2,
     "metadata": {},
     "output_type": "execute_result"
    }
   ],
   "source": [
    "n"
   ]
  },
  {
   "cell_type": "code",
   "execution_count": 5,
   "id": "d5561087",
   "metadata": {},
   "outputs": [],
   "source": [
    "x = n*2"
   ]
  },
  {
   "cell_type": "code",
   "execution_count": 6,
   "id": "a30dc099",
   "metadata": {},
   "outputs": [
    {
     "data": {
      "text/plain": [
       "10"
      ]
     },
     "execution_count": 6,
     "metadata": {},
     "output_type": "execute_result"
    }
   ],
   "source": [
    "x"
   ]
  },
  {
   "cell_type": "markdown",
   "id": "627864e4",
   "metadata": {},
   "source": [
    "# Cabeçalho nível 1\n",
    "## Cabeçalho nível 2\n",
    "### Cabeçalho nível 3\n",
    "\n",
    "Texto\n",
    "* item 1\n",
    "* item 2\n",
    "1. num1\n",
    "2. num2\n",
    "3. num3"
   ]
  },
  {
   "cell_type": "code",
   "execution_count": null,
   "id": "bac025b4",
   "metadata": {},
   "outputs": [],
   "source": []
  }
 ],
 "metadata": {
  "kernelspec": {
   "display_name": "Python 3 (ipykernel)",
   "language": "python",
   "name": "python3"
  },
  "language_info": {
   "codemirror_mode": {
    "name": "ipython",
    "version": 3
   },
   "file_extension": ".py",
   "mimetype": "text/x-python",
   "name": "python",
   "nbconvert_exporter": "python",
   "pygments_lexer": "ipython3",
   "version": "3.11.5"
  }
 },
 "nbformat": 4,
 "nbformat_minor": 5
}
