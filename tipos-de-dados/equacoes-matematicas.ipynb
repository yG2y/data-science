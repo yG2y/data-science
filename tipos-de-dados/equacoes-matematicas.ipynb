{
 "cells": [
  {
   "cell_type": "markdown",
   "id": "6f52002a",
   "metadata": {},
   "source": [
    "# Transformando equações matemáticas em expressões aritméticas"
   ]
  },
  {
   "cell_type": "markdown",
   "id": "964b20c3",
   "metadata": {},
   "source": [
    "## Cálculo da área e perímetro do retângulo\n",
    "area = base X altura,\n",
    "perímetro = 2 X (base + altura)"
   ]
  },
  {
   "cell_type": "code",
   "execution_count": 5,
   "id": "b747f965",
   "metadata": {},
   "outputs": [
    {
     "name": "stdout",
     "output_type": "stream",
     "text": [
      "56 30\n"
     ]
    }
   ],
   "source": [
    "base = 7\n",
    "altura = 8\n",
    "area = base * altura\n",
    "perimetro = 2 * (base + altura)\n",
    "print(area, perimetro)"
   ]
  },
  {
   "cell_type": "markdown",
   "id": "fe615ca3",
   "metadata": {},
   "source": [
    "## Calculo da área e comprimento da circunferência\n",
    "area = Pi X raio²,\n",
    "comprimento = 2 X Pi * raio"
   ]
  },
  {
   "cell_type": "code",
   "execution_count": 6,
   "id": "1f22ca7e",
   "metadata": {},
   "outputs": [
    {
     "name": "stdout",
     "output_type": "stream",
     "text": [
      "Para o raio 2, a área = 12.56636, e o comprimento = 12.56636\n"
     ]
    }
   ],
   "source": [
    "raio = 2\n",
    "area = 3.14159 * raio ** 2\n",
    "comprimento = 2 * 3.14159 * raio\n",
    "print('Para o raio {}, a área = {}, e o comprimento = {}'.format(raio, area, comprimento))"
   ]
  },
  {
   "cell_type": "code",
   "execution_count": null,
   "id": "59389b33",
   "metadata": {},
   "outputs": [],
   "source": []
  }
 ],
 "metadata": {
  "kernelspec": {
   "display_name": "Python 3 (ipykernel)",
   "language": "python",
   "name": "python3"
  },
  "language_info": {
   "codemirror_mode": {
    "name": "ipython",
    "version": 3
   },
   "file_extension": ".py",
   "mimetype": "text/x-python",
   "name": "python",
   "nbconvert_exporter": "python",
   "pygments_lexer": "ipython3",
   "version": "3.11.5"
  }
 },
 "nbformat": 4,
 "nbformat_minor": 5
}
