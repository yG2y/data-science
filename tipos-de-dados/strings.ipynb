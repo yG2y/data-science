{
 "cells": [
  {
   "cell_type": "markdown",
   "id": "fbe1f6a1",
   "metadata": {},
   "source": [
    "# Strings"
   ]
  },
  {
   "cell_type": "code",
   "execution_count": 1,
   "id": "908c3f46",
   "metadata": {},
   "outputs": [
    {
     "data": {
      "text/plain": [
       "'Hello World'"
      ]
     },
     "execution_count": 1,
     "metadata": {},
     "output_type": "execute_result"
    }
   ],
   "source": [
    "'Hello World' # Usando apóstrofos"
   ]
  },
  {
   "cell_type": "code",
   "execution_count": 2,
   "id": "e3958399",
   "metadata": {},
   "outputs": [
    {
     "data": {
      "text/plain": [
       "'Hello World'"
      ]
     },
     "execution_count": 2,
     "metadata": {},
     "output_type": "execute_result"
    }
   ],
   "source": [
    "\"Hello World\" # Usando aspas"
   ]
  },
  {
   "cell_type": "code",
   "execution_count": 3,
   "id": "c65d0662",
   "metadata": {},
   "outputs": [
    {
     "data": {
      "text/plain": [
       "\"I'm a teacher\""
      ]
     },
     "execution_count": 3,
     "metadata": {},
     "output_type": "execute_result"
    }
   ],
   "source": [
    "\"I'm a teacher\" # Uso de aspas e apóstrofo nuam mesma String"
   ]
  },
  {
   "cell_type": "code",
   "execution_count": 4,
   "id": "769114c8",
   "metadata": {},
   "outputs": [
    {
     "data": {
      "text/plain": [
       "'Ele é \"bonito\"'"
      ]
     },
     "execution_count": 4,
     "metadata": {},
     "output_type": "execute_result"
    }
   ],
   "source": [
    "'Ele é \"bonito\"' # Uso de aspas e apóstrofo nuam mesma String"
   ]
  },
  {
   "cell_type": "code",
   "execution_count": 5,
   "id": "c430c69a",
   "metadata": {},
   "outputs": [],
   "source": [
    "#Criando uma variável String\n",
    "nome = \"Marcos\""
   ]
  },
  {
   "cell_type": "code",
   "execution_count": 6,
   "id": "8816cbbf",
   "metadata": {},
   "outputs": [
    {
     "data": {
      "text/plain": [
       "'Marcos'"
      ]
     },
     "execution_count": 6,
     "metadata": {},
     "output_type": "execute_result"
    }
   ],
   "source": [
    "#Exibindo o conteúdo da variável\n",
    "nome"
   ]
  },
  {
   "cell_type": "code",
   "execution_count": 7,
   "id": "1b74f953",
   "metadata": {},
   "outputs": [
    {
     "name": "stdout",
     "output_type": "stream",
     "text": [
      "Marcos\n"
     ]
    }
   ],
   "source": [
    "# Em outras IDE's, a forma correta de mostrar o contúdo de uma variável é através do print\n",
    "print(nome)"
   ]
  },
  {
   "cell_type": "code",
   "execution_count": 8,
   "id": "a170190a",
   "metadata": {},
   "outputs": [
    {
     "data": {
      "text/plain": [
       "str"
      ]
     },
     "execution_count": 8,
     "metadata": {},
     "output_type": "execute_result"
    }
   ],
   "source": [
    "#Verificando o tipo da variável nome\n",
    "type(nome)"
   ]
  },
  {
   "cell_type": "code",
   "execution_count": 9,
   "id": "1d4c3ca9",
   "metadata": {},
   "outputs": [
    {
     "data": {
      "text/plain": [
       "6"
      ]
     },
     "execution_count": 9,
     "metadata": {},
     "output_type": "execute_result"
    }
   ],
   "source": [
    "#Retornando o tamanho da string\n",
    "len(nome)"
   ]
  },
  {
   "cell_type": "markdown",
   "id": "60ef2e56",
   "metadata": {},
   "source": [
    "### Indexação em strings"
   ]
  },
  {
   "cell_type": "code",
   "execution_count": 14,
   "id": "ad5a8ade",
   "metadata": {},
   "outputs": [
    {
     "name": "stdout",
     "output_type": "stream",
     "text": [
      "P\n",
      "y\n",
      "t\n",
      "h\n",
      "o\n",
      "n\n"
     ]
    }
   ],
   "source": [
    "\"\"\"\n",
    "Definindo a string s - \"Python\"\n",
    "+---+---+---+---+---+---+\n",
    "| P | y | t | h | o | n |\n",
    "+---+---+---+---+---+---+\n",
    "  0   1   2   3   4   5\n",
    "\"\"\"\n",
    "s = \"Python\"\n",
    "# Acessando cada caractere armazenado no string s\n",
    "print(s[0])\n",
    "print(s[1])\n",
    "print(s[2])\n",
    "print(s[3])\n",
    "print(s[4])\n",
    "print(s[5])"
   ]
  },
  {
   "cell_type": "code",
   "execution_count": 17,
   "id": "fc7931cf",
   "metadata": {},
   "outputs": [
    {
     "name": "stdout",
     "output_type": "stream",
     "text": [
      "P\n",
      "y\n",
      "t\n",
      "h\n",
      "o\n",
      "n\n"
     ]
    }
   ],
   "source": [
    "\"\"\"\n",
    "+---+---+---+---+---+---+\n",
    "| P | y | t | h | o | n |\n",
    "+---+---+---+---+---+---+\n",
    " -6  -5  -4  -3  -2  -1   \n",
    "\"\"\"\n",
    "# Acessando cada caractere armazenado no string s (utilizando índices decrescentes)\n",
    "print(s[-6])\n",
    "print(s[-5])\n",
    "print(s[-4])\n",
    "print(s[-3])\n",
    "print(s[-2])\n",
    "print(s[-1])"
   ]
  },
  {
   "cell_type": "code",
   "execution_count": 20,
   "id": "0c5aa47f",
   "metadata": {},
   "outputs": [
    {
     "data": {
      "text/plain": [
       "'n'"
      ]
     },
     "execution_count": 20,
     "metadata": {},
     "output_type": "execute_result"
    }
   ],
   "source": [
    "# Acessando o caractere armazenado na ultima posição\n",
    "s[5]"
   ]
  },
  {
   "cell_type": "code",
   "execution_count": 21,
   "id": "ce4e2651",
   "metadata": {},
   "outputs": [
    {
     "data": {
      "text/plain": [
       "'n'"
      ]
     },
     "execution_count": 21,
     "metadata": {},
     "output_type": "execute_result"
    }
   ],
   "source": [
    "# Acessando o caractere armazenado na ultima posição\n",
    "s[len(s)-1]"
   ]
  },
  {
   "cell_type": "code",
   "execution_count": 23,
   "id": "816798de",
   "metadata": {},
   "outputs": [
    {
     "data": {
      "text/plain": [
       "'n'"
      ]
     },
     "execution_count": 23,
     "metadata": {},
     "output_type": "execute_result"
    }
   ],
   "source": [
    "# Acessando o caractere armazenado na ultima posição\n",
    "s[-1]"
   ]
  },
  {
   "cell_type": "markdown",
   "id": "58f931ac",
   "metadata": {},
   "source": [
    "### Slicing (fatiamento) em strings"
   ]
  },
  {
   "cell_type": "code",
   "execution_count": 24,
   "id": "76ee7a5a",
   "metadata": {},
   "outputs": [],
   "source": [
    "# Redefinindo a string s\n",
    "s = \"Jupyter Notebook\""
   ]
  },
  {
   "cell_type": "code",
   "execution_count": 27,
   "id": "74e54d38",
   "metadata": {},
   "outputs": [
    {
     "data": {
      "text/plain": [
       "'Jupyter'"
      ]
     },
     "execution_count": 27,
     "metadata": {},
     "output_type": "execute_result"
    }
   ],
   "source": [
    "# Retornando apenas a palavra Jupyter\n",
    "s[0:7] # Estamos acessando a string s a partir do índice 0 até o 6"
   ]
  },
  {
   "cell_type": "code",
   "execution_count": 28,
   "id": "b219813a",
   "metadata": {},
   "outputs": [
    {
     "data": {
      "text/plain": [
       "'Jupyter'"
      ]
     },
     "execution_count": 28,
     "metadata": {},
     "output_type": "execute_result"
    }
   ],
   "source": [
    "# Retornando apenas a palavra Jupyter\n",
    "s[-16:-9] # Estamos acessando a string s a partir do índice -16 até o -10"
   ]
  },
  {
   "cell_type": "code",
   "execution_count": 29,
   "id": "9d0a1184",
   "metadata": {},
   "outputs": [
    {
     "data": {
      "text/plain": [
       "'Jupyter'"
      ]
     },
     "execution_count": 29,
     "metadata": {},
     "output_type": "execute_result"
    }
   ],
   "source": [
    "# Retornando apenas a palavra Jupyter\n",
    "s[:7] # Estamos acessando a string s a partir do iniício até o índice 6"
   ]
  },
  {
   "cell_type": "code",
   "execution_count": 30,
   "id": "26045061",
   "metadata": {},
   "outputs": [
    {
     "data": {
      "text/plain": [
       "'Jupyter'"
      ]
     },
     "execution_count": 30,
     "metadata": {},
     "output_type": "execute_result"
    }
   ],
   "source": [
    "# Retornando apenas a palavra Jupyter\n",
    "s[:-9] # Estamos acessando a string s a partir do iniício até o índice -10"
   ]
  },
  {
   "cell_type": "code",
   "execution_count": 31,
   "id": "d5dd3c57",
   "metadata": {},
   "outputs": [
    {
     "data": {
      "text/plain": [
       "'Notebook'"
      ]
     },
     "execution_count": 31,
     "metadata": {},
     "output_type": "execute_result"
    }
   ],
   "source": [
    "# Retornando apenas a palavra Notebook\n",
    "s[8:16] # Estamos acessando a string s a partir do índice 8 até o 15"
   ]
  },
  {
   "cell_type": "code",
   "execution_count": 32,
   "id": "082b308c",
   "metadata": {},
   "outputs": [
    {
     "data": {
      "text/plain": [
       "'Notebook'"
      ]
     },
     "execution_count": 32,
     "metadata": {},
     "output_type": "execute_result"
    }
   ],
   "source": [
    "# Retornando apenas a palavra Notebook\n",
    "s[-8:] # Estamos acessando a string s a partir do índice -16 até o -9"
   ]
  },
  {
   "cell_type": "code",
   "execution_count": 34,
   "id": "acd36828",
   "metadata": {},
   "outputs": [
    {
     "data": {
      "text/plain": [
       "'Notebook'"
      ]
     },
     "execution_count": 34,
     "metadata": {},
     "output_type": "execute_result"
    }
   ],
   "source": [
    "# Retornando apenas a palavra Notebook\n",
    "s[8:] # Estamos acessando a string s a partir do inicio até o índice 6"
   ]
  },
  {
   "cell_type": "code",
   "execution_count": 35,
   "id": "f5c50b50",
   "metadata": {},
   "outputs": [
    {
     "data": {
      "text/plain": [
       "'Jptr'"
      ]
     },
     "execution_count": 35,
     "metadata": {},
     "output_type": "execute_result"
    }
   ],
   "source": [
    "# Podem ser acessadas posições não contínuas\n",
    "s[0:7:2] # Serão aqui acessadas de 2 e 2 "
   ]
  },
  {
   "cell_type": "code",
   "execution_count": 36,
   "id": "68d3eb1c",
   "metadata": {},
   "outputs": [
    {
     "data": {
      "text/plain": [
       "'Jyrobk'"
      ]
     },
     "execution_count": 36,
     "metadata": {},
     "output_type": "execute_result"
    }
   ],
   "source": [
    "# Serão acessados os caracteres armazenados desde o início atéo final, com incremente de 3 em 3\n",
    "s[::3]"
   ]
  },
  {
   "cell_type": "code",
   "execution_count": 42,
   "id": "6ac4687d",
   "metadata": {},
   "outputs": [
    {
     "data": {
      "text/plain": [
       "'koobetoN retypuJ'"
      ]
     },
     "execution_count": 42,
     "metadata": {},
     "output_type": "execute_result"
    }
   ],
   "source": [
    "# Com incrementos negativos, podemos acessar o string em ordem invertida\n",
    "s[-1:-17:-1]"
   ]
  },
  {
   "cell_type": "code",
   "execution_count": 40,
   "id": "0cb7183a",
   "metadata": {},
   "outputs": [
    {
     "data": {
      "text/plain": [
       "'koobetoN retypuJ'"
      ]
     },
     "execution_count": 40,
     "metadata": {},
     "output_type": "execute_result"
    }
   ],
   "source": [
    "s[16::-1]"
   ]
  },
  {
   "cell_type": "code",
   "execution_count": 41,
   "id": "17be99eb",
   "metadata": {},
   "outputs": [
    {
     "data": {
      "text/plain": [
       "'koobetoN retypuJ'"
      ]
     },
     "execution_count": 41,
     "metadata": {},
     "output_type": "execute_result"
    }
   ],
   "source": [
    "s[::-1]"
   ]
  },
  {
   "cell_type": "code",
   "execution_count": 50,
   "id": "0ebf5d43",
   "metadata": {},
   "outputs": [
    {
     "name": "stdout",
     "output_type": "stream",
     "text": [
      "\n",
      "P\n",
      "Py\n",
      "Pyt\n",
      "Pyth\n",
      "Pytho\n",
      "Python\n",
      "Python\n"
     ]
    }
   ],
   "source": [
    "# Acesso partes do string, a partir do inicio\n",
    "p = \"Python\"\n",
    "print(p[:0])\n",
    "print(p[:1])\n",
    "print(p[:2])\n",
    "print(p[:3])\n",
    "print(p[:4])\n",
    "print(p[:5])\n",
    "print(p[:6])\n",
    "print(p[:])"
   ]
  },
  {
   "cell_type": "code",
   "execution_count": 51,
   "id": "a54184dd",
   "metadata": {},
   "outputs": [
    {
     "name": "stdout",
     "output_type": "stream",
     "text": [
      "P\n",
      "Py\n",
      "Pyt\n",
      "Pyth\n",
      "Pytho\n",
      "Python\n",
      "Python\n"
     ]
    }
   ],
   "source": [
    "print(p[0:1])\n",
    "print(p[0:2])\n",
    "print(p[0:3])\n",
    "print(p[0:4])\n",
    "print(p[0:5])\n",
    "print(p[0:6])\n",
    "print(p[0:])"
   ]
  },
  {
   "cell_type": "code",
   "execution_count": 52,
   "id": "bef7f093",
   "metadata": {},
   "outputs": [
    {
     "name": "stdout",
     "output_type": "stream",
     "text": [
      "Python\n",
      "Python\n",
      "ython\n",
      "thon\n",
      "hon\n",
      "on\n",
      "n\n",
      "\n"
     ]
    }
   ],
   "source": [
    "print(p[:])\n",
    "print(p[0:])\n",
    "print(p[1:])\n",
    "print(p[2:])\n",
    "print(p[3:])\n",
    "print(p[4:])\n",
    "print(p[5:])\n",
    "print(p[6:])"
   ]
  },
  {
   "cell_type": "markdown",
   "id": "9ecc81dd",
   "metadata": {},
   "source": [
    "### Operadores em strings"
   ]
  },
  {
   "cell_type": "code",
   "execution_count": 56,
   "id": "afb9bb14",
   "metadata": {},
   "outputs": [
    {
     "name": "stdout",
     "output_type": "stream",
     "text": [
      "A\n",
      "linguagem\n",
      "!siamed é nohtyP megaugnil A\n",
      "A linguagem Python é demais! Sensacional!!!\n",
      "PythonPythonPython\n",
      "O substring 'Python' está contindo em 'A linguagem Python é demais!' => True\n",
      "O substring 'PythonPythonPython' está contindo em 'A linguagem Python é demais! Sensacional!!!' => True\n"
     ]
    }
   ],
   "source": [
    "s = \"A linguagem Python é demais!\"\n",
    "s1 = \"Python\"\n",
    "print(s[0])\n",
    "print(s[2:11])\n",
    "print(s[::-1])\n",
    "s2 = s + \" Sensacional!!!\"\n",
    "print(s2)\n",
    "s3 = s1*3\n",
    "print(s3)\n",
    "print(\"O substring '{}' está contindo em '{}' => {}\".format(s1, s, s1 in s))\n",
    "print(\"O substring '{}' está contindo em '{}' => {}\".format(s3, s2, s3 not in s2))"
   ]
  },
  {
   "cell_type": "markdown",
   "id": "5d91fb25",
   "metadata": {},
   "source": [
    "### Strings são imutáveis"
   ]
  },
  {
   "cell_type": "code",
   "execution_count": 57,
   "id": "f1ee5a7a",
   "metadata": {},
   "outputs": [
    {
     "ename": "TypeError",
     "evalue": "'str' object does not support item assignment",
     "output_type": "error",
     "traceback": [
      "\u001b[1;31m---------------------------------------------------------------------------\u001b[0m",
      "\u001b[1;31mTypeError\u001b[0m                                 Traceback (most recent call last)",
      "Cell \u001b[1;32mIn[57], line 2\u001b[0m\n\u001b[0;32m      1\u001b[0m s \u001b[38;5;241m=\u001b[39m \u001b[38;5;124m\"\u001b[39m\u001b[38;5;124mPythoM\u001b[39m\u001b[38;5;124m\"\u001b[39m\n\u001b[1;32m----> 2\u001b[0m s[\u001b[38;5;241m5\u001b[39m] \u001b[38;5;241m=\u001b[39m \u001b[38;5;124m\"\u001b[39m\u001b[38;5;124mn\u001b[39m\u001b[38;5;124m\"\u001b[39m\n",
      "\u001b[1;31mTypeError\u001b[0m: 'str' object does not support item assignment"
     ]
    }
   ],
   "source": [
    "s = \"PythoM\"\n",
    "s[5] = \"n\""
   ]
  },
  {
   "cell_type": "code",
   "execution_count": 59,
   "id": "b69709f1",
   "metadata": {},
   "outputs": [],
   "source": [
    "# Para corrigir\n",
    "s = \"Python\""
   ]
  },
  {
   "cell_type": "code",
   "execution_count": 60,
   "id": "89a1ed09",
   "metadata": {},
   "outputs": [
    {
     "data": {
      "text/plain": [
       "'Python'"
      ]
     },
     "execution_count": 60,
     "metadata": {},
     "output_type": "execute_result"
    }
   ],
   "source": [
    "s"
   ]
  },
  {
   "cell_type": "code",
   "execution_count": null,
   "id": "59397678",
   "metadata": {},
   "outputs": [],
   "source": []
  }
 ],
 "metadata": {
  "kernelspec": {
   "display_name": "Python 3 (ipykernel)",
   "language": "python",
   "name": "python3"
  },
  "language_info": {
   "codemirror_mode": {
    "name": "ipython",
    "version": 3
   },
   "file_extension": ".py",
   "mimetype": "text/x-python",
   "name": "python",
   "nbconvert_exporter": "python",
   "pygments_lexer": "ipython3",
   "version": "3.11.5"
  }
 },
 "nbformat": 4,
 "nbformat_minor": 5
}
