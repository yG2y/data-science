{
 "cells": [
  {
   "cell_type": "markdown",
   "id": "9b2a61f3",
   "metadata": {},
   "source": [
    "## isinstance()\n",
    "Além do método type() que retorna o tipo de um objeto, Pthon fornece o método isinstance() que permite verificar se um objeto ou variável (primeiro parâmetro da função) é uma instância de uma classe ou é de um determinado tipo."
   ]
  },
  {
   "cell_type": "code",
   "execution_count": 1,
   "id": "4c1cf048",
   "metadata": {},
   "outputs": [
    {
     "data": {
      "text/plain": [
       "True"
      ]
     },
     "execution_count": 1,
     "metadata": {},
     "output_type": "execute_result"
    }
   ],
   "source": [
    "isinstance(5, int)"
   ]
  },
  {
   "cell_type": "code",
   "execution_count": 2,
   "id": "1152845b",
   "metadata": {},
   "outputs": [
    {
     "data": {
      "text/plain": [
       "False"
      ]
     },
     "execution_count": 2,
     "metadata": {},
     "output_type": "execute_result"
    }
   ],
   "source": [
    "isinstance(5, str)"
   ]
  },
  {
   "cell_type": "code",
   "execution_count": 3,
   "id": "d64abe92",
   "metadata": {},
   "outputs": [
    {
     "data": {
      "text/plain": [
       "False"
      ]
     },
     "execution_count": 3,
     "metadata": {},
     "output_type": "execute_result"
    }
   ],
   "source": [
    "isinstance(5, float)"
   ]
  },
  {
   "cell_type": "code",
   "execution_count": 4,
   "id": "6c879a83",
   "metadata": {},
   "outputs": [
    {
     "data": {
      "text/plain": [
       "True"
      ]
     },
     "execution_count": 4,
     "metadata": {},
     "output_type": "execute_result"
    }
   ],
   "source": [
    "isinstance('Python', str)"
   ]
  },
  {
   "cell_type": "code",
   "execution_count": 5,
   "id": "71ce72aa",
   "metadata": {},
   "outputs": [
    {
     "data": {
      "text/plain": [
       "False"
      ]
     },
     "execution_count": 5,
     "metadata": {},
     "output_type": "execute_result"
    }
   ],
   "source": [
    "isinstance('Python', int)"
   ]
  },
  {
   "cell_type": "code",
   "execution_count": 1,
   "id": "e43e4379",
   "metadata": {},
   "outputs": [
    {
     "name": "stdout",
     "output_type": "stream",
     "text": [
      "nome\n"
     ]
    }
   ],
   "source": [
    "print('nome')"
   ]
  },
  {
   "cell_type": "code",
   "execution_count": 3,
   "id": "cd617389",
   "metadata": {},
   "outputs": [
    {
     "name": "stdout",
     "output_type": "stream",
     "text": [
      "José Maria da Silva\n"
     ]
    }
   ],
   "source": [
    "nome = 'José Maria da Silva'\n",
    "print(nome)"
   ]
  },
  {
   "cell_type": "markdown",
   "id": "8d43e7ee",
   "metadata": {},
   "source": [
    "### Concatenação"
   ]
  },
  {
   "cell_type": "code",
   "execution_count": 4,
   "id": "794d8152",
   "metadata": {},
   "outputs": [
    {
     "name": "stdout",
     "output_type": "stream",
     "text": [
      "Nome: José Maria da Silva\n"
     ]
    }
   ],
   "source": [
    "print('Nome: '+nome)"
   ]
  },
  {
   "cell_type": "code",
   "execution_count": 7,
   "id": "67a1c1ab",
   "metadata": {},
   "outputs": [
    {
     "name": "stdout",
     "output_type": "stream",
     "text": [
      "Nome:  José Maria da Silva\n"
     ]
    }
   ],
   "source": [
    "# Podemos também usar a vírgula (usar vírgula da um espaço maior na área de concatenação)\n",
    "print(\"Nome: \",nome)"
   ]
  },
  {
   "cell_type": "code",
   "execution_count": 8,
   "id": "acadaeab",
   "metadata": {},
   "outputs": [
    {
     "name": "stdout",
     "output_type": "stream",
     "text": [
      "Meu nome é José Maria da Silva e tenho 15 anos\n"
     ]
    }
   ],
   "source": [
    "# A forma mais utilizada na versão 3 do Python, é usar o método format.\n",
    "idade = 15\n",
    "print('Meu nome é {} e tenho {} anos'.format(nome, idade))"
   ]
  },
  {
   "cell_type": "code",
   "execution_count": null,
   "id": "91443baa",
   "metadata": {},
   "outputs": [],
   "source": []
  }
 ],
 "metadata": {
  "kernelspec": {
   "display_name": "Python 3 (ipykernel)",
   "language": "python",
   "name": "python3"
  },
  "language_info": {
   "codemirror_mode": {
    "name": "ipython",
    "version": 3
   },
   "file_extension": ".py",
   "mimetype": "text/x-python",
   "name": "python",
   "nbconvert_exporter": "python",
   "pygments_lexer": "ipython3",
   "version": "3.11.5"
  }
 },
 "nbformat": 4,
 "nbformat_minor": 5
}
