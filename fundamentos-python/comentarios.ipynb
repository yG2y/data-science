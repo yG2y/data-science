{
 "cells": [
  {
   "cell_type": "markdown",
   "id": "56fb9b38",
   "metadata": {},
   "source": [
    "# Comentários"
   ]
  },
  {
   "cell_type": "code",
   "execution_count": 5,
   "id": "5163654c",
   "metadata": {},
   "outputs": [],
   "source": [
    "# Comentário de bloco\n",
    "comando_1 = 1\n",
    "comando_2 = 2\n",
    "...\n",
    "comando_n = 3"
   ]
  },
  {
   "cell_type": "code",
   "execution_count": 7,
   "id": "5a45692a",
   "metadata": {},
   "outputs": [],
   "source": [
    "comando_x = 4 # comentário de linha"
   ]
  },
  {
   "cell_type": "code",
   "execution_count": 4,
   "id": "eed5ffb7",
   "metadata": {},
   "outputs": [],
   "source": [
    "# Um comentário pode ser longo e\n",
    "# ocupar várias linhas."
   ]
  },
  {
   "cell_type": "code",
   "execution_count": 8,
   "id": "bd12a784",
   "metadata": {},
   "outputs": [
    {
     "data": {
      "text/plain": [
       "'\\nOutra forma de se criar comentários de várias linhas é através da utilização \\nde 3 aspas duplas na abertura e no fechamento do comentário '"
      ]
     },
     "execution_count": 8,
     "metadata": {},
     "output_type": "execute_result"
    }
   ],
   "source": [
    "\"\"\"\n",
    "Outra forma de se criar comentários de várias linhas é através da utilização \n",
    "de 3 aspas duplas na abertura e no fechamento do comentário \"\"\""
   ]
  },
  {
   "cell_type": "code",
   "execution_count": null,
   "id": "4635662f",
   "metadata": {},
   "outputs": [],
   "source": []
  }
 ],
 "metadata": {
  "kernelspec": {
   "display_name": "Python 3 (ipykernel)",
   "language": "python",
   "name": "python3"
  },
  "language_info": {
   "codemirror_mode": {
    "name": "ipython",
    "version": 3
   },
   "file_extension": ".py",
   "mimetype": "text/x-python",
   "name": "python",
   "nbconvert_exporter": "python",
   "pygments_lexer": "ipython3",
   "version": "3.11.5"
  }
 },
 "nbformat": 4,
 "nbformat_minor": 5
}
