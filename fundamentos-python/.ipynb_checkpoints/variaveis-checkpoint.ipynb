{
 "cells": [
  {
   "cell_type": "code",
   "execution_count": 1,
   "id": "6c022647",
   "metadata": {},
   "outputs": [],
   "source": [
    "quantidade = 3 # cria uma variável inteira (int)"
   ]
  },
  {
   "cell_type": "code",
   "execution_count": 2,
   "id": "1e9e237e",
   "metadata": {},
   "outputs": [
    {
     "data": {
      "text/plain": [
       "int"
      ]
     },
     "execution_count": 2,
     "metadata": {},
     "output_type": "execute_result"
    }
   ],
   "source": [
    "type(quantidade)"
   ]
  },
  {
   "cell_type": "code",
   "execution_count": 3,
   "id": "86982b5b",
   "metadata": {},
   "outputs": [],
   "source": [
    "preco_item = 125.30 # cria uma variável real (float)"
   ]
  },
  {
   "cell_type": "code",
   "execution_count": 4,
   "id": "d64f1a50",
   "metadata": {},
   "outputs": [
    {
     "data": {
      "text/plain": [
       "float"
      ]
     },
     "execution_count": 4,
     "metadata": {},
     "output_type": "execute_result"
    }
   ],
   "source": [
    "type(preco_item)"
   ]
  },
  {
   "cell_type": "code",
   "execution_count": 5,
   "id": "4bfddd11",
   "metadata": {},
   "outputs": [],
   "source": [
    "nome = \"Maria\" # cria uma variável string (str)"
   ]
  },
  {
   "cell_type": "code",
   "execution_count": 6,
   "id": "296c39ad",
   "metadata": {},
   "outputs": [
    {
     "data": {
      "text/plain": [
       "str"
      ]
     },
     "execution_count": 6,
     "metadata": {},
     "output_type": "execute_result"
    }
   ],
   "source": [
    "type(nome)"
   ]
  },
  {
   "cell_type": "code",
   "execution_count": 7,
   "id": "a0872e52",
   "metadata": {},
   "outputs": [],
   "source": [
    "tem_emprego = False # cria uma variável lógica (bool)"
   ]
  },
  {
   "cell_type": "code",
   "execution_count": 8,
   "id": "b5ddd5fa",
   "metadata": {},
   "outputs": [
    {
     "data": {
      "text/plain": [
       "bool"
      ]
     },
     "execution_count": 8,
     "metadata": {},
     "output_type": "execute_result"
    }
   ],
   "source": [
    "type(tem_emprego)"
   ]
  },
  {
   "cell_type": "code",
   "execution_count": 9,
   "id": "49d9c9c1",
   "metadata": {},
   "outputs": [],
   "source": [
    "sacola = quantidade * preco_item # cria uma variável sacola com uma operação"
   ]
  },
  {
   "cell_type": "code",
   "execution_count": 12,
   "id": "5e08b620",
   "metadata": {},
   "outputs": [
    {
     "data": {
      "text/plain": [
       "(375.9, float)"
      ]
     },
     "execution_count": 12,
     "metadata": {},
     "output_type": "execute_result"
    }
   ],
   "source": [
    "sacola, type(sacola)"
   ]
  },
  {
   "cell_type": "code",
   "execution_count": null,
   "id": "70de38f8",
   "metadata": {},
   "outputs": [],
   "source": []
  }
 ],
 "metadata": {
  "kernelspec": {
   "display_name": "Python 3 (ipykernel)",
   "language": "python",
   "name": "python3"
  },
  "language_info": {
   "codemirror_mode": {
    "name": "ipython",
    "version": 3
   },
   "file_extension": ".py",
   "mimetype": "text/x-python",
   "name": "python",
   "nbconvert_exporter": "python",
   "pygments_lexer": "ipython3",
   "version": "3.11.5"
  }
 },
 "nbformat": 4,
 "nbformat_minor": 5
}
