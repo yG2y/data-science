{
 "cells": [
  {
   "cell_type": "code",
   "execution_count": 6,
   "id": "4f5842c0",
   "metadata": {},
   "outputs": [],
   "source": [
    "# Conversões para String\n",
    "bool_string = str(True)\n",
    "bool_string2 = str(False)\n",
    "int_string = str(5)\n",
    "float_string = str(3.14159)"
   ]
  },
  {
   "cell_type": "code",
   "execution_count": 12,
   "id": "2c13efd5",
   "metadata": {},
   "outputs": [
    {
     "data": {
      "text/plain": [
       "('True', 'False', '5', '3.14159')"
      ]
     },
     "execution_count": 12,
     "metadata": {},
     "output_type": "execute_result"
    }
   ],
   "source": [
    "bool_string, bool_string2, int_string, float_string"
   ]
  },
  {
   "cell_type": "code",
   "execution_count": 15,
   "id": "345ae54e",
   "metadata": {},
   "outputs": [],
   "source": [
    "# Conversões para Int\n",
    "string_int = int(\"2019\")\n",
    "bool_int = int(True)\n",
    "bool_int2 = int(False)\n",
    "float_int = int(3.16554)\n",
    "string_int2 = int(\"101\", 2)\n",
    "string_int3 = int(\"F0A23B\", 16)"
   ]
  },
  {
   "cell_type": "code",
   "execution_count": 16,
   "id": "3714d62c",
   "metadata": {},
   "outputs": [
    {
     "data": {
      "text/plain": [
       "(2019, 1, 0, 3, 5, 15770171)"
      ]
     },
     "execution_count": 16,
     "metadata": {},
     "output_type": "execute_result"
    }
   ],
   "source": [
    "string_int, bool_int, bool_int2, float_int, string_int2, string_int3"
   ]
  },
  {
   "cell_type": "code",
   "execution_count": 17,
   "id": "7c7f5ee9",
   "metadata": {},
   "outputs": [],
   "source": [
    "# Conversões para Float\n",
    "string_float = float(\"3.14159\")\n",
    "string_float2 = float(\"3\")\n",
    "bool_float = float(True)\n",
    "bool_float2 = float(False)\n",
    "int_float = float(15)"
   ]
  },
  {
   "cell_type": "code",
   "execution_count": 18,
   "id": "75766096",
   "metadata": {},
   "outputs": [
    {
     "data": {
      "text/plain": [
       "(3.14159, 3.0, 1.0, 0.0, 15.0)"
      ]
     },
     "execution_count": 18,
     "metadata": {},
     "output_type": "execute_result"
    }
   ],
   "source": [
    "string_float, string_float2, bool_float, bool_float2, int_float"
   ]
  },
  {
   "cell_type": "code",
   "execution_count": 1,
   "id": "5181eff8",
   "metadata": {},
   "outputs": [],
   "source": [
    "# Conversões para Bool (qualquer coisa diferente de 0 da true)\n",
    "string_bool = bool(\"Python\")\n",
    "string_bool2 = bool(\"True\")\n",
    "string_bool3 = bool(\"False\")\n",
    "int_bool = bool(17)\n",
    "int_bool2 = bool(0)\n",
    "float_bool = bool(3.14)\n",
    "float_bool2 = bool(0.0)"
   ]
  },
  {
   "cell_type": "code",
   "execution_count": 2,
   "id": "351b1e0d",
   "metadata": {},
   "outputs": [
    {
     "data": {
      "text/plain": [
       "(True, True, True, True, False, True, False)"
      ]
     },
     "execution_count": 2,
     "metadata": {},
     "output_type": "execute_result"
    }
   ],
   "source": [
    "string_bool, string_bool2, string_bool3, int_bool, int_bool2, float_bool, float_bool2"
   ]
  },
  {
   "cell_type": "code",
   "execution_count": null,
   "id": "50228220",
   "metadata": {},
   "outputs": [],
   "source": []
  }
 ],
 "metadata": {
  "kernelspec": {
   "display_name": "Python 3 (ipykernel)",
   "language": "python",
   "name": "python3"
  },
  "language_info": {
   "codemirror_mode": {
    "name": "ipython",
    "version": 3
   },
   "file_extension": ".py",
   "mimetype": "text/x-python",
   "name": "python",
   "nbconvert_exporter": "python",
   "pygments_lexer": "ipython3",
   "version": "3.11.5"
  }
 },
 "nbformat": 4,
 "nbformat_minor": 5
}
